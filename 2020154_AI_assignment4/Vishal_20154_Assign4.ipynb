{
  "nbformat": 4,
  "nbformat_minor": 0,
  "metadata": {
    "colab": {
      "provenance": []
    },
    "kernelspec": {
      "name": "python3",
      "display_name": "Python 3"
    },
    "language_info": {
      "name": "python"
    }
  },
  "cells": [
    {
      "cell_type": "code",
      "execution_count": 46,
      "metadata": {
        "id": "9ZN75mLx_bH3"
      },
      "outputs": [],
      "source": [
        "import pandas as pd\n",
        "import numpy as np\n",
        "import seaborn as sns\n",
        "import matplotlib.pyplot as plt\n",
        "import pickle\n",
        "import sklearn\n",
        "import io\n",
        "from google.colab import files\n",
        "from sklearn.preprocessing import OneHotEncoder as ohe\n",
        "from sklearn.model_selection import train_test_split as tts\n",
        "from sklearn.neural_network import MLPClassifier as mlpc\n",
        "from sklearn.metrics import accuracy_score as acs\n",
        "from sklearn.metrics import confusion_matrix as con_mat, classification_report as cls_rpt\n",
        "from sklearn.preprocessing import StandardScaler as SS\n",
        "from sklearn import preprocessing as pre"
      ]
    },
    {
      "cell_type": "code",
      "source": [
        "uploaded = files.upload()\n",
        "records = pd.read_csv(io.BytesIO(uploaded['roo_data.csv']))\n",
        "records.head()"
      ],
      "metadata": {
        "colab": {
          "base_uri": "https://localhost:8080/",
          "height": 547
        },
        "id": "iEAqWj7R_c5r",
        "outputId": "7dbe293c-e816-4aaf-e568-f27fb6e47ae2"
      },
      "execution_count": 19,
      "outputs": [
        {
          "output_type": "display_data",
          "data": {
            "text/plain": [
              "<IPython.core.display.HTML object>"
            ],
            "text/html": [
              "\n",
              "     <input type=\"file\" id=\"files-df1a1832-d3ad-4d8d-b022-db5ce7810039\" name=\"files[]\" multiple disabled\n",
              "        style=\"border:none\" />\n",
              "     <output id=\"result-df1a1832-d3ad-4d8d-b022-db5ce7810039\">\n",
              "      Upload widget is only available when the cell has been executed in the\n",
              "      current browser session. Please rerun this cell to enable.\n",
              "      </output>\n",
              "      <script>// Copyright 2017 Google LLC\n",
              "//\n",
              "// Licensed under the Apache License, Version 2.0 (the \"License\");\n",
              "// you may not use this file except in compliance with the License.\n",
              "// You may obtain a copy of the License at\n",
              "//\n",
              "//      http://www.apache.org/licenses/LICENSE-2.0\n",
              "//\n",
              "// Unless required by applicable law or agreed to in writing, software\n",
              "// distributed under the License is distributed on an \"AS IS\" BASIS,\n",
              "// WITHOUT WARRANTIES OR CONDITIONS OF ANY KIND, either express or implied.\n",
              "// See the License for the specific language governing permissions and\n",
              "// limitations under the License.\n",
              "\n",
              "/**\n",
              " * @fileoverview Helpers for google.colab Python module.\n",
              " */\n",
              "(function(scope) {\n",
              "function span(text, styleAttributes = {}) {\n",
              "  const element = document.createElement('span');\n",
              "  element.textContent = text;\n",
              "  for (const key of Object.keys(styleAttributes)) {\n",
              "    element.style[key] = styleAttributes[key];\n",
              "  }\n",
              "  return element;\n",
              "}\n",
              "\n",
              "// Max number of bytes which will be uploaded at a time.\n",
              "const MAX_PAYLOAD_SIZE = 100 * 1024;\n",
              "\n",
              "function _uploadFiles(inputId, outputId) {\n",
              "  const steps = uploadFilesStep(inputId, outputId);\n",
              "  const outputElement = document.getElementById(outputId);\n",
              "  // Cache steps on the outputElement to make it available for the next call\n",
              "  // to uploadFilesContinue from Python.\n",
              "  outputElement.steps = steps;\n",
              "\n",
              "  return _uploadFilesContinue(outputId);\n",
              "}\n",
              "\n",
              "// This is roughly an async generator (not supported in the browser yet),\n",
              "// where there are multiple asynchronous steps and the Python side is going\n",
              "// to poll for completion of each step.\n",
              "// This uses a Promise to block the python side on completion of each step,\n",
              "// then passes the result of the previous step as the input to the next step.\n",
              "function _uploadFilesContinue(outputId) {\n",
              "  const outputElement = document.getElementById(outputId);\n",
              "  const steps = outputElement.steps;\n",
              "\n",
              "  const next = steps.next(outputElement.lastPromiseValue);\n",
              "  return Promise.resolve(next.value.promise).then((value) => {\n",
              "    // Cache the last promise value to make it available to the next\n",
              "    // step of the generator.\n",
              "    outputElement.lastPromiseValue = value;\n",
              "    return next.value.response;\n",
              "  });\n",
              "}\n",
              "\n",
              "/**\n",
              " * Generator function which is called between each async step of the upload\n",
              " * process.\n",
              " * @param {string} inputId Element ID of the input file picker element.\n",
              " * @param {string} outputId Element ID of the output display.\n",
              " * @return {!Iterable<!Object>} Iterable of next steps.\n",
              " */\n",
              "function* uploadFilesStep(inputId, outputId) {\n",
              "  const inputElement = document.getElementById(inputId);\n",
              "  inputElement.disabled = false;\n",
              "\n",
              "  const outputElement = document.getElementById(outputId);\n",
              "  outputElement.innerHTML = '';\n",
              "\n",
              "  const pickedPromise = new Promise((resolve) => {\n",
              "    inputElement.addEventListener('change', (e) => {\n",
              "      resolve(e.target.files);\n",
              "    });\n",
              "  });\n",
              "\n",
              "  const cancel = document.createElement('button');\n",
              "  inputElement.parentElement.appendChild(cancel);\n",
              "  cancel.textContent = 'Cancel upload';\n",
              "  const cancelPromise = new Promise((resolve) => {\n",
              "    cancel.onclick = () => {\n",
              "      resolve(null);\n",
              "    };\n",
              "  });\n",
              "\n",
              "  // Wait for the user to pick the files.\n",
              "  const files = yield {\n",
              "    promise: Promise.race([pickedPromise, cancelPromise]),\n",
              "    response: {\n",
              "      action: 'starting',\n",
              "    }\n",
              "  };\n",
              "\n",
              "  cancel.remove();\n",
              "\n",
              "  // Disable the input element since further picks are not allowed.\n",
              "  inputElement.disabled = true;\n",
              "\n",
              "  if (!files) {\n",
              "    return {\n",
              "      response: {\n",
              "        action: 'complete',\n",
              "      }\n",
              "    };\n",
              "  }\n",
              "\n",
              "  for (const file of files) {\n",
              "    const li = document.createElement('li');\n",
              "    li.append(span(file.name, {fontWeight: 'bold'}));\n",
              "    li.append(span(\n",
              "        `(${file.type || 'n/a'}) - ${file.size} bytes, ` +\n",
              "        `last modified: ${\n",
              "            file.lastModifiedDate ? file.lastModifiedDate.toLocaleDateString() :\n",
              "                                    'n/a'} - `));\n",
              "    const percent = span('0% done');\n",
              "    li.appendChild(percent);\n",
              "\n",
              "    outputElement.appendChild(li);\n",
              "\n",
              "    const fileDataPromise = new Promise((resolve) => {\n",
              "      const reader = new FileReader();\n",
              "      reader.onload = (e) => {\n",
              "        resolve(e.target.result);\n",
              "      };\n",
              "      reader.readAsArrayBuffer(file);\n",
              "    });\n",
              "    // Wait for the data to be ready.\n",
              "    let fileData = yield {\n",
              "      promise: fileDataPromise,\n",
              "      response: {\n",
              "        action: 'continue',\n",
              "      }\n",
              "    };\n",
              "\n",
              "    // Use a chunked sending to avoid message size limits. See b/62115660.\n",
              "    let position = 0;\n",
              "    do {\n",
              "      const length = Math.min(fileData.byteLength - position, MAX_PAYLOAD_SIZE);\n",
              "      const chunk = new Uint8Array(fileData, position, length);\n",
              "      position += length;\n",
              "\n",
              "      const base64 = btoa(String.fromCharCode.apply(null, chunk));\n",
              "      yield {\n",
              "        response: {\n",
              "          action: 'append',\n",
              "          file: file.name,\n",
              "          data: base64,\n",
              "        },\n",
              "      };\n",
              "\n",
              "      let percentDone = fileData.byteLength === 0 ?\n",
              "          100 :\n",
              "          Math.round((position / fileData.byteLength) * 100);\n",
              "      percent.textContent = `${percentDone}% done`;\n",
              "\n",
              "    } while (position < fileData.byteLength);\n",
              "  }\n",
              "\n",
              "  // All done.\n",
              "  yield {\n",
              "    response: {\n",
              "      action: 'complete',\n",
              "    }\n",
              "  };\n",
              "}\n",
              "\n",
              "scope.google = scope.google || {};\n",
              "scope.google.colab = scope.google.colab || {};\n",
              "scope.google.colab._files = {\n",
              "  _uploadFiles,\n",
              "  _uploadFilesContinue,\n",
              "};\n",
              "})(self);\n",
              "</script> "
            ]
          },
          "metadata": {}
        },
        {
          "output_type": "stream",
          "name": "stdout",
          "text": [
            "Saving roo_data.csv to roo_data (2).csv\n"
          ]
        },
        {
          "output_type": "execute_result",
          "data": {
            "text/plain": [
              "   Acedamic percentage in Operating Systems  percentage in Algorithms  \\\n",
              "0                                        69                        63   \n",
              "1                                        78                        62   \n",
              "2                                        71                        86   \n",
              "3                                        76                        87   \n",
              "4                                        92                        62   \n",
              "\n",
              "   Percentage in Programming Concepts  Percentage in Software Engineering  \\\n",
              "0                                  78                                  87   \n",
              "1                                  73                                  60   \n",
              "2                                  91                                  87   \n",
              "3                                  60                                  84   \n",
              "4                                  90                                  67   \n",
              "\n",
              "   Percentage in Computer Networks  Percentage in Electronics Subjects  \\\n",
              "0                               94                                  94   \n",
              "1                               71                                  70   \n",
              "2                               61                                  81   \n",
              "3                               89                                  73   \n",
              "4                               71                                  89   \n",
              "\n",
              "   Percentage in Computer Architecture  Percentage in Mathematics  \\\n",
              "0                                   87                         84   \n",
              "1                                   73                         84   \n",
              "2                                   72                         72   \n",
              "3                                   62                         88   \n",
              "4                                   73                         71   \n",
              "\n",
              "   Percentage in Communication skills  Hours working per day  ...  \\\n",
              "0                                  61                      9  ...   \n",
              "1                                  91                     12  ...   \n",
              "2                                  94                     11  ...   \n",
              "3                                  69                      7  ...   \n",
              "4                                  73                      4  ...   \n",
              "\n",
              "   Interested Type of Books  Salary Range Expected  In a Realtionship?  \\\n",
              "0              Prayer books                 salary                  no   \n",
              "1                 Childrens                 salary                 yes   \n",
              "2                    Travel                   Work                  no   \n",
              "3                   Romance                   Work                 yes   \n",
              "4                 Cookbooks                 salary                  no   \n",
              "\n",
              "   Gentle or Tuff behaviour? Management or Technical Salary/work  \\\n",
              "0                   stubborn              Management      salary   \n",
              "1                     gentle               Technical      salary   \n",
              "2                   stubborn              Management        work   \n",
              "3                     gentle              Management        work   \n",
              "4                   stubborn              Management        work   \n",
              "\n",
              "  hard/smart worker worked in teams ever? Introvert  \\\n",
              "0       hard worker                   yes        no   \n",
              "1       hard worker                    no       yes   \n",
              "2       hard worker                    no       yes   \n",
              "3      smart worker                   yes       yes   \n",
              "4       hard worker                   yes       yes   \n",
              "\n",
              "               Suggested Job Role  \n",
              "0              Database Developer  \n",
              "1            Portal Administrator  \n",
              "2            Portal Administrator  \n",
              "3  Systems Security Administrator  \n",
              "4        Business Systems Analyst  \n",
              "\n",
              "[5 rows x 39 columns]"
            ],
            "text/html": [
              "\n",
              "  <div id=\"df-382ca15c-5cd4-4d21-82ad-d7607b44e479\">\n",
              "    <div class=\"colab-df-container\">\n",
              "      <div>\n",
              "<style scoped>\n",
              "    .dataframe tbody tr th:only-of-type {\n",
              "        vertical-align: middle;\n",
              "    }\n",
              "\n",
              "    .dataframe tbody tr th {\n",
              "        vertical-align: top;\n",
              "    }\n",
              "\n",
              "    .dataframe thead th {\n",
              "        text-align: right;\n",
              "    }\n",
              "</style>\n",
              "<table border=\"1\" class=\"dataframe\">\n",
              "  <thead>\n",
              "    <tr style=\"text-align: right;\">\n",
              "      <th></th>\n",
              "      <th>Acedamic percentage in Operating Systems</th>\n",
              "      <th>percentage in Algorithms</th>\n",
              "      <th>Percentage in Programming Concepts</th>\n",
              "      <th>Percentage in Software Engineering</th>\n",
              "      <th>Percentage in Computer Networks</th>\n",
              "      <th>Percentage in Electronics Subjects</th>\n",
              "      <th>Percentage in Computer Architecture</th>\n",
              "      <th>Percentage in Mathematics</th>\n",
              "      <th>Percentage in Communication skills</th>\n",
              "      <th>Hours working per day</th>\n",
              "      <th>...</th>\n",
              "      <th>Interested Type of Books</th>\n",
              "      <th>Salary Range Expected</th>\n",
              "      <th>In a Realtionship?</th>\n",
              "      <th>Gentle or Tuff behaviour?</th>\n",
              "      <th>Management or Technical</th>\n",
              "      <th>Salary/work</th>\n",
              "      <th>hard/smart worker</th>\n",
              "      <th>worked in teams ever?</th>\n",
              "      <th>Introvert</th>\n",
              "      <th>Suggested Job Role</th>\n",
              "    </tr>\n",
              "  </thead>\n",
              "  <tbody>\n",
              "    <tr>\n",
              "      <th>0</th>\n",
              "      <td>69</td>\n",
              "      <td>63</td>\n",
              "      <td>78</td>\n",
              "      <td>87</td>\n",
              "      <td>94</td>\n",
              "      <td>94</td>\n",
              "      <td>87</td>\n",
              "      <td>84</td>\n",
              "      <td>61</td>\n",
              "      <td>9</td>\n",
              "      <td>...</td>\n",
              "      <td>Prayer books</td>\n",
              "      <td>salary</td>\n",
              "      <td>no</td>\n",
              "      <td>stubborn</td>\n",
              "      <td>Management</td>\n",
              "      <td>salary</td>\n",
              "      <td>hard worker</td>\n",
              "      <td>yes</td>\n",
              "      <td>no</td>\n",
              "      <td>Database Developer</td>\n",
              "    </tr>\n",
              "    <tr>\n",
              "      <th>1</th>\n",
              "      <td>78</td>\n",
              "      <td>62</td>\n",
              "      <td>73</td>\n",
              "      <td>60</td>\n",
              "      <td>71</td>\n",
              "      <td>70</td>\n",
              "      <td>73</td>\n",
              "      <td>84</td>\n",
              "      <td>91</td>\n",
              "      <td>12</td>\n",
              "      <td>...</td>\n",
              "      <td>Childrens</td>\n",
              "      <td>salary</td>\n",
              "      <td>yes</td>\n",
              "      <td>gentle</td>\n",
              "      <td>Technical</td>\n",
              "      <td>salary</td>\n",
              "      <td>hard worker</td>\n",
              "      <td>no</td>\n",
              "      <td>yes</td>\n",
              "      <td>Portal Administrator</td>\n",
              "    </tr>\n",
              "    <tr>\n",
              "      <th>2</th>\n",
              "      <td>71</td>\n",
              "      <td>86</td>\n",
              "      <td>91</td>\n",
              "      <td>87</td>\n",
              "      <td>61</td>\n",
              "      <td>81</td>\n",
              "      <td>72</td>\n",
              "      <td>72</td>\n",
              "      <td>94</td>\n",
              "      <td>11</td>\n",
              "      <td>...</td>\n",
              "      <td>Travel</td>\n",
              "      <td>Work</td>\n",
              "      <td>no</td>\n",
              "      <td>stubborn</td>\n",
              "      <td>Management</td>\n",
              "      <td>work</td>\n",
              "      <td>hard worker</td>\n",
              "      <td>no</td>\n",
              "      <td>yes</td>\n",
              "      <td>Portal Administrator</td>\n",
              "    </tr>\n",
              "    <tr>\n",
              "      <th>3</th>\n",
              "      <td>76</td>\n",
              "      <td>87</td>\n",
              "      <td>60</td>\n",
              "      <td>84</td>\n",
              "      <td>89</td>\n",
              "      <td>73</td>\n",
              "      <td>62</td>\n",
              "      <td>88</td>\n",
              "      <td>69</td>\n",
              "      <td>7</td>\n",
              "      <td>...</td>\n",
              "      <td>Romance</td>\n",
              "      <td>Work</td>\n",
              "      <td>yes</td>\n",
              "      <td>gentle</td>\n",
              "      <td>Management</td>\n",
              "      <td>work</td>\n",
              "      <td>smart worker</td>\n",
              "      <td>yes</td>\n",
              "      <td>yes</td>\n",
              "      <td>Systems Security Administrator</td>\n",
              "    </tr>\n",
              "    <tr>\n",
              "      <th>4</th>\n",
              "      <td>92</td>\n",
              "      <td>62</td>\n",
              "      <td>90</td>\n",
              "      <td>67</td>\n",
              "      <td>71</td>\n",
              "      <td>89</td>\n",
              "      <td>73</td>\n",
              "      <td>71</td>\n",
              "      <td>73</td>\n",
              "      <td>4</td>\n",
              "      <td>...</td>\n",
              "      <td>Cookbooks</td>\n",
              "      <td>salary</td>\n",
              "      <td>no</td>\n",
              "      <td>stubborn</td>\n",
              "      <td>Management</td>\n",
              "      <td>work</td>\n",
              "      <td>hard worker</td>\n",
              "      <td>yes</td>\n",
              "      <td>yes</td>\n",
              "      <td>Business Systems Analyst</td>\n",
              "    </tr>\n",
              "  </tbody>\n",
              "</table>\n",
              "<p>5 rows × 39 columns</p>\n",
              "</div>\n",
              "      <button class=\"colab-df-convert\" onclick=\"convertToInteractive('df-382ca15c-5cd4-4d21-82ad-d7607b44e479')\"\n",
              "              title=\"Convert this dataframe to an interactive table.\"\n",
              "              style=\"display:none;\">\n",
              "        \n",
              "  <svg xmlns=\"http://www.w3.org/2000/svg\" height=\"24px\"viewBox=\"0 0 24 24\"\n",
              "       width=\"24px\">\n",
              "    <path d=\"M0 0h24v24H0V0z\" fill=\"none\"/>\n",
              "    <path d=\"M18.56 5.44l.94 2.06.94-2.06 2.06-.94-2.06-.94-.94-2.06-.94 2.06-2.06.94zm-11 1L8.5 8.5l.94-2.06 2.06-.94-2.06-.94L8.5 2.5l-.94 2.06-2.06.94zm10 10l.94 2.06.94-2.06 2.06-.94-2.06-.94-.94-2.06-.94 2.06-2.06.94z\"/><path d=\"M17.41 7.96l-1.37-1.37c-.4-.4-.92-.59-1.43-.59-.52 0-1.04.2-1.43.59L10.3 9.45l-7.72 7.72c-.78.78-.78 2.05 0 2.83L4 21.41c.39.39.9.59 1.41.59.51 0 1.02-.2 1.41-.59l7.78-7.78 2.81-2.81c.8-.78.8-2.07 0-2.86zM5.41 20L4 18.59l7.72-7.72 1.47 1.35L5.41 20z\"/>\n",
              "  </svg>\n",
              "      </button>\n",
              "      \n",
              "  <style>\n",
              "    .colab-df-container {\n",
              "      display:flex;\n",
              "      flex-wrap:wrap;\n",
              "      gap: 12px;\n",
              "    }\n",
              "\n",
              "    .colab-df-convert {\n",
              "      background-color: #E8F0FE;\n",
              "      border: none;\n",
              "      border-radius: 50%;\n",
              "      cursor: pointer;\n",
              "      display: none;\n",
              "      fill: #1967D2;\n",
              "      height: 32px;\n",
              "      padding: 0 0 0 0;\n",
              "      width: 32px;\n",
              "    }\n",
              "\n",
              "    .colab-df-convert:hover {\n",
              "      background-color: #E2EBFA;\n",
              "      box-shadow: 0px 1px 2px rgba(60, 64, 67, 0.3), 0px 1px 3px 1px rgba(60, 64, 67, 0.15);\n",
              "      fill: #174EA6;\n",
              "    }\n",
              "\n",
              "    [theme=dark] .colab-df-convert {\n",
              "      background-color: #3B4455;\n",
              "      fill: #D2E3FC;\n",
              "    }\n",
              "\n",
              "    [theme=dark] .colab-df-convert:hover {\n",
              "      background-color: #434B5C;\n",
              "      box-shadow: 0px 1px 3px 1px rgba(0, 0, 0, 0.15);\n",
              "      filter: drop-shadow(0px 1px 2px rgba(0, 0, 0, 0.3));\n",
              "      fill: #FFFFFF;\n",
              "    }\n",
              "  </style>\n",
              "\n",
              "      <script>\n",
              "        const buttonEl =\n",
              "          document.querySelector('#df-382ca15c-5cd4-4d21-82ad-d7607b44e479 button.colab-df-convert');\n",
              "        buttonEl.style.display =\n",
              "          google.colab.kernel.accessAllowed ? 'block' : 'none';\n",
              "\n",
              "        async function convertToInteractive(key) {\n",
              "          const element = document.querySelector('#df-382ca15c-5cd4-4d21-82ad-d7607b44e479');\n",
              "          const dataTable =\n",
              "            await google.colab.kernel.invokeFunction('convertToInteractive',\n",
              "                                                     [key], {});\n",
              "          if (!dataTable) return;\n",
              "\n",
              "          const docLinkHtml = 'Like what you see? Visit the ' +\n",
              "            '<a target=\"_blank\" href=https://colab.research.google.com/notebooks/data_table.ipynb>data table notebook</a>'\n",
              "            + ' to learn more about interactive tables.';\n",
              "          element.innerHTML = '';\n",
              "          dataTable['output_type'] = 'display_data';\n",
              "          await google.colab.output.renderOutput(dataTable, element);\n",
              "          const docLink = document.createElement('div');\n",
              "          docLink.innerHTML = docLinkHtml;\n",
              "          element.appendChild(docLink);\n",
              "        }\n",
              "      </script>\n",
              "    </div>\n",
              "  </div>\n",
              "  "
            ]
          },
          "metadata": {},
          "execution_count": 19
        }
      ]
    },
    {
      "cell_type": "code",
      "source": [
        "records.info()"
      ],
      "metadata": {
        "colab": {
          "base_uri": "https://localhost:8080/"
        },
        "id": "JJOfNdVTArog",
        "outputId": "7ddc280e-4392-4399-d25d-6b2f99724a8c"
      },
      "execution_count": 7,
      "outputs": [
        {
          "output_type": "stream",
          "name": "stdout",
          "text": [
            "<class 'pandas.core.frame.DataFrame'>\n",
            "RangeIndex: 20000 entries, 0 to 19999\n",
            "Data columns (total 39 columns):\n",
            " #   Column                                    Non-Null Count  Dtype \n",
            "---  ------                                    --------------  ----- \n",
            " 0   Acedamic percentage in Operating Systems  20000 non-null  int64 \n",
            " 1   percentage in Algorithms                  20000 non-null  int64 \n",
            " 2   Percentage in Programming Concepts        20000 non-null  int64 \n",
            " 3   Percentage in Software Engineering        20000 non-null  int64 \n",
            " 4   Percentage in Computer Networks           20000 non-null  int64 \n",
            " 5   Percentage in Electronics Subjects        20000 non-null  int64 \n",
            " 6   Percentage in Computer Architecture       20000 non-null  int64 \n",
            " 7   Percentage in Mathematics                 20000 non-null  int64 \n",
            " 8   Percentage in Communication skills        20000 non-null  int64 \n",
            " 9   Hours working per day                     20000 non-null  int64 \n",
            " 10  Logical quotient rating                   20000 non-null  int64 \n",
            " 11  hackathons                                20000 non-null  int64 \n",
            " 12  coding skills rating                      20000 non-null  int64 \n",
            " 13  public speaking points                    20000 non-null  int64 \n",
            " 14  can work long time before system?         20000 non-null  object\n",
            " 15  self-learning capability?                 20000 non-null  object\n",
            " 16  Extra-courses did                         20000 non-null  object\n",
            " 17  certifications                            20000 non-null  object\n",
            " 18  workshops                                 20000 non-null  object\n",
            " 19  talenttests taken?                        20000 non-null  object\n",
            " 20  olympiads                                 20000 non-null  object\n",
            " 21  reading and writing skills                20000 non-null  object\n",
            " 22  memory capability score                   20000 non-null  object\n",
            " 23  Interested subjects                       20000 non-null  object\n",
            " 24  interested career area                    20000 non-null  object\n",
            " 25  Job/Higher Studies?                       20000 non-null  object\n",
            " 26  Type of company want to settle in?        20000 non-null  object\n",
            " 27  Taken inputs from seniors or elders       20000 non-null  object\n",
            " 28  interested in games                       20000 non-null  object\n",
            " 29  Interested Type of Books                  20000 non-null  object\n",
            " 30  Salary Range Expected                     20000 non-null  object\n",
            " 31  In a Realtionship?                        20000 non-null  object\n",
            " 32  Gentle or Tuff behaviour?                 20000 non-null  object\n",
            " 33  Management or Technical                   20000 non-null  object\n",
            " 34  Salary/work                               20000 non-null  object\n",
            " 35  hard/smart worker                         20000 non-null  object\n",
            " 36  worked in teams ever?                     20000 non-null  object\n",
            " 37  Introvert                                 20000 non-null  object\n",
            " 38  Suggested Job Role                        20000 non-null  object\n",
            "dtypes: int64(14), object(25)\n",
            "memory usage: 6.0+ MB\n"
          ]
        }
      ]
    },
    {
      "cell_type": "code",
      "source": [
        "n = records.shape[1] - 1\n",
        "print(\"Unique values for \" + records.columns[n] + \"\\n\")\n",
        "print(records.iloc[:,n].unique())"
      ],
      "metadata": {
        "colab": {
          "base_uri": "https://localhost:8080/"
        },
        "id": "_jVUI-V9A84R",
        "outputId": "18a67673-75f1-4b25-c589-6af2c3297b8d"
      },
      "execution_count": 14,
      "outputs": [
        {
          "output_type": "stream",
          "name": "stdout",
          "text": [
            "Unique values for Suggested Job Role\n",
            "\n",
            "['Database Developer' 'Portal Administrator'\n",
            " 'Systems Security Administrator' 'Business Systems Analyst'\n",
            " 'Software Systems Engineer' 'Business Intelligence Analyst'\n",
            " 'CRM Technical Developer' 'Mobile Applications Developer' 'UX Designer'\n",
            " 'Quality Assurance Associate' 'Web Developer'\n",
            " 'Information Security Analyst' 'CRM Business Analyst' 'Technical Support'\n",
            " 'Project Manager' 'Information Technology Manager' 'Programmer Analyst'\n",
            " 'Design & UX' 'Solutions Architect' 'Systems Analyst'\n",
            " 'Network Security Administrator' 'Data Architect' 'Software Developer'\n",
            " 'E-Commerce Analyst' 'Technical Services/Help Desk/Tech Support'\n",
            " 'Information Technology Auditor' 'Database Manager'\n",
            " 'Applications Developer' 'Database Administrator' 'Network Engineer'\n",
            " 'Software Engineer' 'Technical Engineer' 'Network Security Engineer'\n",
            " 'Software Quality Assurance (QA) / Testing']\n"
          ]
        }
      ]
    },
    {
      "cell_type": "code",
      "source": [
        "rest = records.iloc[:,:-1]\n",
        "last = records.iloc[:,-1]\n",
        "\n",
        "tmp = ohe()\n",
        "\n",
        "rest1 = tmp.fit_transform(rest)\n",
        "last1 = last.copy(deep = True)"
      ],
      "metadata": {
        "id": "dcDMWrf70Dz3"
      },
      "execution_count": 20,
      "outputs": []
    },
    {
      "cell_type": "code",
      "source": [
        "rest_train, rest_test, last_train, last_test = tts(rest1, last1, test_size = 0.20)\n",
        "\n",
        "tmp = mlpc(random_state = 40)\n",
        "\n",
        "cls = tmp.fit(rest_train, last_train) \n",
        "\n",
        "acs(cls.predict(rest_test), last_test)"
      ],
      "metadata": {
        "colab": {
          "base_uri": "https://localhost:8080/"
        },
        "id": "Knc71lh86ryJ",
        "outputId": "ab926f2b-62c3-4d8b-93dd-508c49b702d3"
      },
      "execution_count": 75,
      "outputs": [
        {
          "output_type": "stream",
          "name": "stderr",
          "text": [
            "/usr/local/lib/python3.7/dist-packages/sklearn/neural_network/_multilayer_perceptron.py:696: ConvergenceWarning: Stochastic Optimizer: Maximum iterations (200) reached and the optimization hasn't converged yet.\n",
            "  ConvergenceWarning,\n"
          ]
        },
        {
          "output_type": "execute_result",
          "data": {
            "text/plain": [
              "0.03275"
            ]
          },
          "metadata": {},
          "execution_count": 75
        }
      ]
    },
    {
      "cell_type": "code",
      "source": [
        "cls_train = con_mat(cls.predict(rest_train),last_train)\n",
        "cls_test = con_mat(cls.predict(rest_test),last_test)\n",
        "print(\"Train confusion matrix\")\n",
        "print(cls_train)\n",
        "print(\"\\nTest confusion matrix\")\n",
        "print(cls_test)\n",
        "print(\"\\nTrain classwise accuracies\")\n",
        "print(cls_train.diagonal()/cls_train.sum(axis=1))\n",
        "print(\"\\nTest classwise accuracies\")\n",
        "print(cls_test.diagonal()/cls_test.sum(axis=1))"
      ],
      "metadata": {
        "colab": {
          "base_uri": "https://localhost:8080/"
        },
        "id": "uOFLd117NjNz",
        "outputId": "3cc98237-ad8a-4f64-851f-3ec1ee942017"
      },
      "execution_count": 78,
      "outputs": [
        {
          "output_type": "stream",
          "name": "stdout",
          "text": [
            "Train confusion matrix\n",
            "[[467   0   0 ...   0   0   0]\n",
            " [  0 464   0 ...   0   0   0]\n",
            " [  0   0 477 ...   0   0   0]\n",
            " ...\n",
            " [  0   0   0 ... 478   0   0]\n",
            " [  0   0   0 ...   0 492   0]\n",
            " [  0   0   0 ...   0   0 483]]\n",
            "\n",
            "Test confusion matrix\n",
            "[[3 1 0 ... 2 4 5]\n",
            " [2 2 3 ... 1 3 3]\n",
            " [1 3 4 ... 1 5 3]\n",
            " ...\n",
            " [3 3 4 ... 5 6 3]\n",
            " [3 1 2 ... 3 3 4]\n",
            " [2 5 4 ... 2 3 0]]\n",
            "\n",
            "Train classwise accuracies\n",
            "[1.         1.         1.         1.         1.         1.\n",
            " 1.         1.         1.         1.         1.         1.\n",
            " 1.         1.         1.         1.         1.         1.\n",
            " 1.         0.99784946 1.         1.         1.         1.\n",
            " 1.         1.         1.         1.         1.         1.\n",
            " 1.         1.         1.         1.        ]\n",
            "\n",
            "Test classwise accuracies\n",
            "[0.03614458 0.02564103 0.05194805 0.02061856 0.01190476 0.02409639\n",
            " 0.01020408 0.03658537 0.05333333 0.01052632 0.025      0.\n",
            " 0.03614458 0.03846154 0.04225352 0.06741573 0.06024096 0.04347826\n",
            " 0.06097561 0.01428571 0.03571429 0.01162791 0.01041667 0.\n",
            " 0.02247191 0.03658537 0.01111111 0.0125     0.03225806 0.03191489\n",
            " 0.02298851 0.05319149 0.03797468 0.        ]\n"
          ]
        }
      ]
    },
    {
      "cell_type": "code",
      "source": [
        "chart = sns.countplot(x=last1)\n",
        "chart.set_xticklabels(chart.get_xticklabels(),rotation=90)\n",
        "plt.show()"
      ],
      "metadata": {
        "colab": {
          "base_uri": "https://localhost:8080/",
          "height": 483
        },
        "id": "_cNOqTk2rcSf",
        "outputId": "4ade1758-9b08-4cc1-b5b7-98631fee1945"
      },
      "execution_count": 63,
      "outputs": [
        {
          "output_type": "display_data",
          "data": {
            "text/plain": [
              "<Figure size 432x288 with 1 Axes>"
            ],
            "image/png": "[encoded data removed]"
          },
          "metadata": {
            "needs_background": "light"
          }
        }
      ]
    },
    {
      "cell_type": "code",
      "source": [
        "rest2 = SS(with_mean=False).fit_transform(rest1)\n",
        "last2 = last.copy(deep=True)\n",
        "\n",
        "rest_train, rest_test, last_train, last_test = tts(rest2, last2, test_size = 0.20)\n",
        "\n",
        "tmp = mlpc(random_state = 40)\n",
        "\n",
        "cls = tmp.fit(rest_train, last_train) \n",
        "\n",
        "acs(cls.predict(rest_test), last_test)"
      ],
      "metadata": {
        "colab": {
          "base_uri": "https://localhost:8080/"
        },
        "id": "ME9OHDSwYARd",
        "outputId": "feb5abbc-57d9-4816-914e-289a89e6c693"
      },
      "execution_count": 79,
      "outputs": [
        {
          "output_type": "stream",
          "name": "stderr",
          "text": [
            "/usr/local/lib/python3.7/dist-packages/sklearn/neural_network/_multilayer_perceptron.py:696: ConvergenceWarning: Stochastic Optimizer: Maximum iterations (200) reached and the optimization hasn't converged yet.\n",
            "  ConvergenceWarning,\n"
          ]
        },
        {
          "output_type": "execute_result",
          "data": {
            "text/plain": [
              "0.0325"
            ]
          },
          "metadata": {},
          "execution_count": 79
        }
      ]
    },
    {
      "cell_type": "code",
      "source": [
        "cls_train = con_mat(cls.predict(rest_train),last_train)\n",
        "cls_test = con_mat(cls.predict(rest_test),last_test)\n",
        "print(\"Train confusion matrix\")\n",
        "print(cls_train)\n",
        "print(\"\\nTest confusion matrix\")\n",
        "print(cls_test)\n",
        "print(\"\\nTrain classwise accuracies\")\n",
        "print(cls_train.diagonal()/cls_train.sum(axis=1))\n",
        "print(\"\\nTest classwise accuracies\")\n",
        "print(cls_test.diagonal()/cls_test.sum(axis=1))"
      ],
      "metadata": {
        "colab": {
          "base_uri": "https://localhost:8080/"
        },
        "id": "32cI96kiYWd6",
        "outputId": "9d983942-6f73-4ecd-bd86-e5c7a829de0a"
      },
      "execution_count": 82,
      "outputs": [
        {
          "output_type": "stream",
          "name": "stdout",
          "text": [
            "Train confusion matrix\n",
            "[[445   0   0 ...   0   0   0]\n",
            " [  0 424   0 ...   0   0   0]\n",
            " [  0   0 457 ...   0   0   0]\n",
            " ...\n",
            " [  0   0   0 ... 457   0   0]\n",
            " [  0   0   0 ...   0 461   0]\n",
            " [  0   0   0 ...   0   0 465]]\n",
            "\n",
            "Test confusion matrix\n",
            "[[2 7 4 ... 3 1 3]\n",
            " [3 4 5 ... 0 4 3]\n",
            " [1 3 6 ... 3 3 2]\n",
            " ...\n",
            " [3 4 4 ... 2 3 4]\n",
            " [1 1 1 ... 5 2 5]\n",
            " [2 4 2 ... 3 1 1]]\n",
            "\n",
            "Train classwise accuracies\n",
            "[1.         1.         1.         1.         1.         1.\n",
            " 1.         1.         1.         1.         1.         1.\n",
            " 1.         1.         1.         1.         0.99889989 1.\n",
            " 1.         1.         1.         1.         1.         1.\n",
            " 1.         1.         1.         1.         1.         1.\n",
            " 1.         1.         1.         1.        ]\n",
            "\n",
            "Test classwise accuracies\n",
            "[0.01709402 0.04255319 0.05172414 0.05555556 0.04424779 0.048\n",
            " 0.04166667 0.01587302 0.02586207 0.02290076 0.04166667 0.02272727\n",
            " 0.03389831 0.03921569 0.02150538 0.03539823 0.06037736 0.032\n",
            " 0.01801802 0.06741573 0.00671141 0.01754386 0.03125    0.02970297\n",
            " 0.02020202 0.05128205 0.01492537 0.04273504 0.04705882 0.02702703\n",
            " 0.01526718 0.0173913  0.01801802 0.00892857]\n"
          ]
        }
      ]
    },
    {
      "cell_type": "code",
      "source": [
        "rest3 = SS(with_mean=False).fit_transform(rest1)\n",
        "last3 = last.copy(deep=True)\n",
        "\n",
        "rest_train, rest_test, last_train, last_test = tts(rest3, last3, test_size = 0.15)\n",
        "\n",
        "tmp = mlpc(random_state = 40)\n",
        "\n",
        "cls = tmp.fit(rest_train, last_train) \n",
        "\n",
        "acs(cls.predict(rest_test), last_test)"
      ],
      "metadata": {
        "colab": {
          "base_uri": "https://localhost:8080/"
        },
        "id": "Tay8BHlbSHfR",
        "outputId": "6e3b3c9e-58b9-451e-e4fc-3c4da0fec476"
      },
      "execution_count": 77,
      "outputs": [
        {
          "output_type": "stream",
          "name": "stderr",
          "text": [
            "/usr/local/lib/python3.7/dist-packages/sklearn/neural_network/_multilayer_perceptron.py:696: ConvergenceWarning: Stochastic Optimizer: Maximum iterations (200) reached and the optimization hasn't converged yet.\n",
            "  ConvergenceWarning,\n"
          ]
        },
        {
          "output_type": "execute_result",
          "data": {
            "text/plain": [
              "0.029666666666666668"
            ]
          },
          "metadata": {},
          "execution_count": 77
        }
      ]
    },
    {
      "cell_type": "code",
      "source": [
        "cls_train = con_mat(cls.predict(rest_train),last_train)\n",
        "cls_test = con_mat(cls.predict(rest_test),last_test)\n",
        "print(\"Train confusion matrix\")\n",
        "print(cls_train)\n",
        "print(\"\\nTest confusion matrix\")\n",
        "print(cls_test)\n",
        "print(\"\\nTrain classwise accuracies\")\n",
        "print(cls_train.diagonal()/cls_train.sum(axis=1))\n",
        "print(\"\\nTest classwise accuracies\")\n",
        "print(cls_test.diagonal()/cls_test.sum(axis=1))"
      ],
      "metadata": {
        "colab": {
          "base_uri": "https://localhost:8080/"
        },
        "id": "ApFWly9yXq-a",
        "outputId": "93103b79-096b-4267-bce2-da34f7a6a5c1"
      },
      "execution_count": 83,
      "outputs": [
        {
          "output_type": "stream",
          "name": "stdout",
          "text": [
            "Train confusion matrix\n",
            "[[445   0   0 ...   0   0   0]\n",
            " [  0 424   0 ...   0   0   0]\n",
            " [  0   0 457 ...   0   0   0]\n",
            " ...\n",
            " [  0   0   0 ... 457   0   0]\n",
            " [  0   0   0 ...   0 461   0]\n",
            " [  0   0   0 ...   0   0 465]]\n",
            "\n",
            "Test confusion matrix\n",
            "[[2 7 4 ... 3 1 3]\n",
            " [3 4 5 ... 0 4 3]\n",
            " [1 3 6 ... 3 3 2]\n",
            " ...\n",
            " [3 4 4 ... 2 3 4]\n",
            " [1 1 1 ... 5 2 5]\n",
            " [2 4 2 ... 3 1 1]]\n",
            "\n",
            "Train classwise accuracies\n",
            "[1.         1.         1.         1.         1.         1.\n",
            " 1.         1.         1.         1.         1.         1.\n",
            " 1.         1.         1.         1.         0.99889989 1.\n",
            " 1.         1.         1.         1.         1.         1.\n",
            " 1.         1.         1.         1.         1.         1.\n",
            " 1.         1.         1.         1.        ]\n",
            "\n",
            "Test classwise accuracies\n",
            "[0.01709402 0.04255319 0.05172414 0.05555556 0.04424779 0.048\n",
            " 0.04166667 0.01587302 0.02586207 0.02290076 0.04166667 0.02272727\n",
            " 0.03389831 0.03921569 0.02150538 0.03539823 0.06037736 0.032\n",
            " 0.01801802 0.06741573 0.00671141 0.01754386 0.03125    0.02970297\n",
            " 0.02020202 0.05128205 0.01492537 0.04273504 0.04705882 0.02702703\n",
            " 0.01526718 0.0173913  0.01801802 0.00892857]\n"
          ]
        }
      ]
    },
    {
      "cell_type": "code",
      "source": [
        "rest4 = SS(with_mean=False).fit_transform(rest1)\n",
        "last4 = last.copy(deep=True)\n",
        "\n",
        "rest_train, rest_test, last_train, last_test = tts(rest4, last4, test_size = 0.10)\n",
        "\n",
        "tmp = mlpc(random_state = 40)\n",
        "\n",
        "cls = tmp.fit(rest_train, last_train) \n",
        "\n",
        "acs(cls.predict(rest_test), last_test)"
      ],
      "metadata": {
        "colab": {
          "base_uri": "https://localhost:8080/"
        },
        "id": "qvg5q7RRZael",
        "outputId": "b8f38410-533b-44d0-b7f1-2f3701031056"
      },
      "execution_count": 84,
      "outputs": [
        {
          "output_type": "stream",
          "name": "stderr",
          "text": [
            "/usr/local/lib/python3.7/dist-packages/sklearn/neural_network/_multilayer_perceptron.py:696: ConvergenceWarning: Stochastic Optimizer: Maximum iterations (200) reached and the optimization hasn't converged yet.\n",
            "  ConvergenceWarning,\n"
          ]
        },
        {
          "output_type": "execute_result",
          "data": {
            "text/plain": [
              "0.028"
            ]
          },
          "metadata": {},
          "execution_count": 84
        }
      ]
    },
    {
      "cell_type": "code",
      "source": [
        "cls_train = con_mat(cls.predict(rest_train),last_train)\n",
        "cls_test = con_mat(cls.predict(rest_test),last_test)\n",
        "print(\"Train confusion matrix\")\n",
        "print(cls_train)\n",
        "print(\"\\nTest confusion matrix\")\n",
        "print(cls_test)\n",
        "print(\"\\nTrain classwise accuracies\")\n",
        "print(cls_train.diagonal()/cls_train.sum(axis=1))\n",
        "print(\"\\nTest classwise accuracies\")\n",
        "print(cls_test.diagonal()/cls_test.sum(axis=1))"
      ],
      "metadata": {
        "colab": {
          "base_uri": "https://localhost:8080/"
        },
        "id": "BuH2FW3RgXN1",
        "outputId": "eafc9ccd-1ad3-4f7c-df8e-3059686c7612"
      },
      "execution_count": 85,
      "outputs": [
        {
          "output_type": "stream",
          "name": "stdout",
          "text": [
            "Train confusion matrix\n",
            "[[491   0   0 ...   0   0   0]\n",
            " [  0 485   0 ...   0   0   0]\n",
            " [  0   0 522 ...   0   0   0]\n",
            " ...\n",
            " [  0   0   0 ... 499   0   0]\n",
            " [  0   0   0 ...   0 529   0]\n",
            " [  0   0   0 ...   0   0 504]]\n",
            "\n",
            "Test confusion matrix\n",
            "[[2 0 3 ... 2 1 1]\n",
            " [0 1 1 ... 2 1 0]\n",
            " [2 2 1 ... 3 0 1]\n",
            " ...\n",
            " [5 1 1 ... 2 3 3]\n",
            " [4 3 5 ... 1 3 2]\n",
            " [4 3 1 ... 2 2 1]]\n",
            "\n",
            "Train classwise accuracies\n",
            "[0.99392713 0.99589322 0.99618321 0.99812383 0.9960396  0.99804688\n",
            " 0.99439252 0.9962963  0.99808061 0.996139   0.99585921 1.\n",
            " 0.99798793 0.98901099 0.99593496 0.99642218 1.         0.9964476\n",
            " 0.99250936 0.99361702 0.99260628 0.99808061 1.         0.98689139\n",
            " 0.99807322 0.99223301 0.99608611 0.99595142 0.99203187 0.99796748\n",
            " 0.9980315  1.         0.9943609  0.9980198 ]\n",
            "\n",
            "Test classwise accuracies\n",
            "[0.03389831 0.02272727 0.02       0.01538462 0.03508772 0.08333333\n",
            " 0.03703704 0.01886792 0.02739726 0.03448276 0.         0.01923077\n",
            " 0.04477612 0.         0.03773585 0.01666667 0.03333333 0.03571429\n",
            " 0.03125    0.04081633 0.04285714 0.         0.01724138 0.03703704\n",
            " 0.02777778 0.02222222 0.01785714 0.01785714 0.03333333 0.01612903\n",
            " 0.01923077 0.03571429 0.04109589 0.01923077]\n"
          ]
        }
      ]
    },
    {
      "cell_type": "code",
      "source": [
        "rest5 = pre.normalize(rest1, axis = 0)\n",
        "last5 = last1.copy(deep=True)\n",
        "\n",
        "rest_train, rest_test, last_train, last_test = tts(rest5, last5, test_size = 0.20)\n",
        "\n",
        "tmp = mlpc(random_state = 40)\n",
        "\n",
        "cls = tmp.fit(rest_train, last_train) \n",
        "\n",
        "acs(cls.predict(rest_test), last_test)"
      ],
      "metadata": {
        "colab": {
          "base_uri": "https://localhost:8080/"
        },
        "id": "_kG4a0YSgjFQ",
        "outputId": "51fb6887-bf79-49f1-ff9a-f3e7ae1fb2fe"
      },
      "execution_count": 86,
      "outputs": [
        {
          "output_type": "stream",
          "name": "stderr",
          "text": [
            "/usr/local/lib/python3.7/dist-packages/sklearn/neural_network/_multilayer_perceptron.py:696: ConvergenceWarning: Stochastic Optimizer: Maximum iterations (200) reached and the optimization hasn't converged yet.\n",
            "  ConvergenceWarning,\n"
          ]
        },
        {
          "output_type": "execute_result",
          "data": {
            "text/plain": [
              "0.03075"
            ]
          },
          "metadata": {},
          "execution_count": 86
        }
      ]
    },
    {
      "cell_type": "code",
      "source": [
        "cls_train = con_mat(cls.predict(rest_train),last_train)\n",
        "cls_test = con_mat(cls.predict(rest_test),last_test)\n",
        "print(\"Train confusion matrix\")\n",
        "print(cls_train)\n",
        "print(\"\\nTest confusion matrix\")\n",
        "print(cls_test)\n",
        "print(\"\\nTrain classwise accuracies\")\n",
        "print(cls_train.diagonal()/cls_train.sum(axis=1))\n",
        "print(\"\\nTest classwise accuracies\")\n",
        "print(cls_test.diagonal()/cls_test.sum(axis=1))"
      ],
      "metadata": {
        "colab": {
          "base_uri": "https://localhost:8080/"
        },
        "id": "xTGEYOlbip2_",
        "outputId": "48f8632a-e2af-49ec-d2de-b507ab5334de"
      },
      "execution_count": 87,
      "outputs": [
        {
          "output_type": "stream",
          "name": "stdout",
          "text": [
            "Train confusion matrix\n",
            "[[252   1   8 ...   8   9   2]\n",
            " [  5 223   3 ...   0  10   5]\n",
            " [  5   7 203 ...   8   5   7]\n",
            " ...\n",
            " [  5   3   7 ... 235   5   4]\n",
            " [  5   3   4 ...   7 243   1]\n",
            " [  2   5  10 ...   7   4 284]]\n",
            "\n",
            "Test confusion matrix\n",
            "[[4 4 4 ... 4 1 3]\n",
            " [4 2 4 ... 4 4 2]\n",
            " [3 0 5 ... 2 1 1]\n",
            " ...\n",
            " [2 4 5 ... 5 4 1]\n",
            " [2 3 3 ... 3 3 4]\n",
            " [4 3 6 ... 3 7 4]]\n",
            "\n",
            "Train classwise accuracies\n",
            "[0.57665904 0.55061728 0.53421053 0.55       0.55864811 0.51658768\n",
            " 0.55967078 0.50201613 0.56750572 0.44685039 0.46501129 0.5049505\n",
            " 0.57582938 0.59502262 0.58598726 0.55156951 0.57894737 0.57630979\n",
            " 0.5862069  0.52359551 0.55625    0.5754717  0.58571429 0.57773109\n",
            " 0.51535836 0.57630522 0.58611111 0.55782313 0.53878407 0.61842105\n",
            " 0.54562384 0.53775744 0.59852217 0.52886406]\n",
            "\n",
            "Test classwise accuracies\n",
            "[0.03278689 0.01818182 0.04464286 0.03418803 0.02702703 0.025\n",
            " 0.05172414 0.02586207 0.025      0.02479339 0.04395604 0.04597701\n",
            " 0.02830189 0.00862069 0.04054054 0.025      0.05319149 0.05102041\n",
            " 0.00740741 0.01694915 0.02586207 0.02020202 0.01550388 0.\n",
            " 0.01515152 0.02727273 0.0776699  0.01694915 0.03571429 0.04395604\n",
            " 0.03960396 0.0390625  0.02608696 0.02877698]\n"
          ]
        }
      ]
    },
    {
      "cell_type": "code",
      "source": [
        "rest6 = pre.normalize(rest1, axis = 0)\n",
        "last6 = last1.copy(deep=True)\n",
        "\n",
        "rest_train, rest_test, last_train, last_test = tts(rest6, last6, test_size = 0.10)\n",
        "\n",
        "tmp = mlpc(random_state = 40)\n",
        "\n",
        "cls = tmp.fit(rest_train, last_train) \n",
        "\n",
        "acs(cls.predict(rest_test), last_test)"
      ],
      "metadata": {
        "colab": {
          "base_uri": "https://localhost:8080/"
        },
        "id": "s3xwhGh7jQTb",
        "outputId": "39047424-968b-417c-b52e-beda18f2797b"
      },
      "execution_count": 88,
      "outputs": [
        {
          "output_type": "stream",
          "name": "stderr",
          "text": [
            "/usr/local/lib/python3.7/dist-packages/sklearn/neural_network/_multilayer_perceptron.py:696: ConvergenceWarning: Stochastic Optimizer: Maximum iterations (200) reached and the optimization hasn't converged yet.\n",
            "  ConvergenceWarning,\n"
          ]
        },
        {
          "output_type": "execute_result",
          "data": {
            "text/plain": [
              "0.0335"
            ]
          },
          "metadata": {},
          "execution_count": 88
        }
      ]
    },
    {
      "cell_type": "code",
      "source": [
        "cls_train = con_mat(cls.predict(rest_train),last_train)\n",
        "cls_test = con_mat(cls.predict(rest_test),last_test)\n",
        "print(\"Train confusion matrix\")\n",
        "print(cls_train)\n",
        "print(\"\\nTest confusion matrix\")\n",
        "print(cls_test)\n",
        "print(\"\\nTrain classwise accuracies\")\n",
        "print(cls_train.diagonal()/cls_train.sum(axis=1))\n",
        "print(\"\\nTest classwise accuracies\")\n",
        "print(cls_test.diagonal()/cls_test.sum(axis=1))"
      ],
      "metadata": {
        "colab": {
          "base_uri": "https://localhost:8080/"
        },
        "id": "DbEk6gPTjeN4",
        "outputId": "23e97700-8bce-4988-ffa5-5706eaf02f1a"
      },
      "execution_count": 89,
      "outputs": [
        {
          "output_type": "stream",
          "name": "stdout",
          "text": [
            "Train confusion matrix\n",
            "[[222  10   8 ...   7  10   4]\n",
            " [ 10 217   2 ...   4   8   4]\n",
            " [  4   9 242 ...   4   5   8]\n",
            " ...\n",
            " [  6   2   6 ... 276  14   4]\n",
            " [  7   5  10 ...   6 228   5]\n",
            " [  9   4  11 ...   9   7 264]]\n",
            "\n",
            "Test confusion matrix\n",
            "[[1 0 2 ... 1 1 4]\n",
            " [3 2 0 ... 0 3 2]\n",
            " [1 0 0 ... 4 2 1]\n",
            " ...\n",
            " [2 2 2 ... 1 2 1]\n",
            " [3 3 1 ... 1 3 1]\n",
            " [2 1 2 ... 2 1 2]]\n",
            "\n",
            "Train classwise accuracies\n",
            "[0.52358491 0.539801   0.52155172 0.52768166 0.49183673 0.4980695\n",
            " 0.46103896 0.50081301 0.52873563 0.50326797 0.48387097 0.46781116\n",
            " 0.51626016 0.5388601  0.55186722 0.49525617 0.55449483 0.54734411\n",
            " 0.54809437 0.47945205 0.44677419 0.51441242 0.53307393 0.48086522\n",
            " 0.54220779 0.54878049 0.54814815 0.53459119 0.49285714 0.47433628\n",
            " 0.54761905 0.53179191 0.45691383 0.50867052]\n",
            "\n",
            "Test classwise accuracies\n",
            "[0.01818182 0.03508772 0.         0.03278689 0.02380952 0.\n",
            " 0.03571429 0.02564103 0.04918033 0.07017544 0.03333333 0.01754386\n",
            " 0.03278689 0.02941176 0.         0.         0.09271523 0.\n",
            " 0.03636364 0.0625     0.01851852 0.         0.01666667 0.13114754\n",
            " 0.03508772 0.01960784 0.         0.03571429 0.         0.01785714\n",
            " 0.02631579 0.01538462 0.05555556 0.03125   ]\n"
          ]
        }
      ]
    },
    {
      "cell_type": "code",
      "source": [
        "last_trans = last.copy(deep = True)\n",
        "\n",
        "last_trans"
      ],
      "metadata": {
        "colab": {
          "base_uri": "https://localhost:8080/"
        },
        "id": "6aph07NOj3VA",
        "outputId": "062fad4a-cd11-440a-dd73-fd1a3f7444ad"
      },
      "execution_count": 60,
      "outputs": [
        {
          "output_type": "execute_result",
          "data": {
            "text/plain": [
              "0                               Database Developer\n",
              "1                             Portal Administrator\n",
              "2                             Portal Administrator\n",
              "3                   Systems Security Administrator\n",
              "4                         Business Systems Analyst\n",
              "                           ...                    \n",
              "19995                           Technical Engineer\n",
              "19996                           E-Commerce Analyst\n",
              "19997                Business Intelligence Analyst\n",
              "19998    Software Quality Assurance (QA) / Testing\n",
              "19999                       Applications Developer\n",
              "Name: Suggested Job Role, Length: 20000, dtype: object"
            ]
          },
          "metadata": {},
          "execution_count": 60
        }
      ]
    },
    {
      "cell_type": "code",
      "source": [
        "last_trans = last_trans.replace(['Database Manager','Project Manager','Information Technology Manager'],'Manager')\n",
        "last_trans = last_trans.replace(['Solutions Architect','Data Architect','Information Technology Auditor','Software Quality Assurance (QA) / Testing','Quality Assurance Associate'],'others')\n",
        "last_trans = last_trans.replace(['Software Developer','Database Developer','Mobile Applications Developer','Web Developer','CRM Technical Developer','Applications Developer'] ,'Developer')\n",
        "last_trans = last_trans.replace(['Technical Engineer','Technical Services/Help Desk/Tech Support','Technical Support'],'Technical Support')\n",
        "last_trans = last_trans.replace(['Software Engineer','Network Security Engineer','Network Engineer','Software Systems Engineer',] ,'Engineer')\n",
        "last_trans = last_trans.replace(['UX Designer','Design & UX'] , 'Designer')\n",
        "last_trans = last_trans.replace(['Database Administrator','Portal Administrator''Network Security Administrator','Systems Security Administrator',] , 'Administrator')\n",
        "last_trans = last_trans.replace(['CRM Business Analyst','Programmer Analyst','Systems Analyst','Information Security Analyst','Business Systems Analyst','Business Intelligence Analyst',\n",
        "                                 'E-Commerce Analyst'],'Analyst')\n",
        "last_trans"
      ],
      "metadata": {
        "colab": {
          "base_uri": "https://localhost:8080/"
        },
        "id": "04Pe4uV5k2kl",
        "outputId": "db5a624d-ef2c-4f4c-cdc2-7e6ec93dbc53"
      },
      "execution_count": 62,
      "outputs": [
        {
          "output_type": "execute_result",
          "data": {
            "text/plain": [
              "0                                   Databases\n",
              "1                                   Databases\n",
              "2                                   Databases\n",
              "3                           Networks/ Systems\n",
              "4                                     Analyst\n",
              "                         ...                 \n",
              "19995               Technical Support/Service\n",
              "19996                                 Analyst\n",
              "19997                                 Analyst\n",
              "19998                              QA/Testing\n",
              "19999    Mobile Applications/ Web Development\n",
              "Name: Suggested Job Role, Length: 20000, dtype: object"
            ]
          },
          "metadata": {},
          "execution_count": 62
        }
      ]
    },
    {
      "cell_type": "code",
      "source": [
        "chart = sns.countplot(x=last_trans)\n",
        "chart.set_xticklabels(chart.get_xticklabels(),rotation=90)\n",
        "plt.show()"
      ],
      "metadata": {
        "colab": {
          "base_uri": "https://localhost:8080/",
          "height": 465
        },
        "id": "kHrKxsabrt6Q",
        "outputId": "4ce5de2f-6bbf-40b1-e8f1-f900e9bd53f5"
      },
      "execution_count": 64,
      "outputs": [
        {
          "output_type": "display_data",
          "data": {
            "text/plain": [
              "<Figure size 432x288 with 1 Axes>"
            ],
            "image/png": "[encoded data removed]"
          },
          "metadata": {
            "needs_background": "light"
          }
        }
      ]
    },
    {
      "cell_type": "code",
      "source": [
        "rest7 = SS(with_mean=False).fit_transform(rest1)\n",
        "\n",
        "rest_train, rest_test, last_train, last_test = tts(rest7, last_trans, test_size = 0.10)\n",
        "\n",
        "tmp = mlpc(random_state = 40)\n",
        "\n",
        "cls = tmp.fit(rest_train, last_train) \n",
        "\n",
        "acs(cls.predict(rest_test), last_test)"
      ],
      "metadata": {
        "colab": {
          "base_uri": "https://localhost:8080/"
        },
        "id": "zNAmvTzSr0O1",
        "outputId": "37f53bd8-8da2-4388-e662-304bbe3653c1"
      },
      "execution_count": 90,
      "outputs": [
        {
          "output_type": "execute_result",
          "data": {
            "text/plain": [
              "0.1225"
            ]
          },
          "metadata": {},
          "execution_count": 90
        }
      ]
    },
    {
      "cell_type": "code",
      "source": [
        "cls_train = con_mat(cls.predict(rest_train),last_train)\n",
        "cls_test = con_mat(cls.predict(rest_test),last_test)\n",
        "print(\"Train confusion matrix\")\n",
        "print(cls_train)\n",
        "print(\"\\nTest confusion matrix\")\n",
        "print(cls_test)\n",
        "print(\"\\nTrain classwise accuracies\")\n",
        "print(cls_train.diagonal()/cls_train.sum(axis=1))\n",
        "print(\"\\nTest classwise accuracies\")\n",
        "print(cls_test.diagonal()/cls_test.sum(axis=1))"
      ],
      "metadata": {
        "colab": {
          "base_uri": "https://localhost:8080/"
        },
        "id": "WvBuLSYKsz2L",
        "outputId": "99c9e1dd-4407-42db-c4b9-77d6c7cc66e8"
      },
      "execution_count": 91,
      "outputs": [
        {
          "output_type": "stream",
          "name": "stdout",
          "text": [
            "Train confusion matrix\n",
            "[[1509    0    0    0    0    0    0    0    0    0    0]\n",
            " [   0 2095    0    0    0    0    0    0    0    0    0]\n",
            " [   0    0 2122    0    0    0    0    0    0    0    0]\n",
            " [   0    0    0 1491    0    0    0    0    0    0    0]\n",
            " [   0    0    0    0 3641    0    0    0    0    0    0]\n",
            " [   0    0    0    0    0  985    0    0    0    0    0]\n",
            " [   0    0    0    0    0    0 1024    0    0    0    0]\n",
            " [   0    0    0    0    0    0    0 1049    0    0    0]\n",
            " [   0    0    0    0    0    0    0    0 1493    0    0]\n",
            " [   0    0    0    0    0    0    0    0    0 1057    0]\n",
            " [   0    0    0    0    0    0    0    0    0    0 1534]]\n",
            "\n",
            "Test confusion matrix\n",
            "[[19 16 14 11 38  7 14  6 19  9 18]\n",
            " [13 36 27 20 49 11 14 12 26 16 14]\n",
            " [21 26 26 15 49 18 13 14 31  9 14]\n",
            " [16 22 18 10 18  8 16 18 12 13 15]\n",
            " [23 51 39 41 97 21 20 27 26 31 40]\n",
            " [10 11 16 11 21  6  8 10 11  6  8]\n",
            " [19 10 17  8 21  4  3  7  8  3 11]\n",
            " [ 6 22 13  8 27  4  7  9  7  8 11]\n",
            " [13 24 21 16 29  6  4  6 24 10  8]\n",
            " [10 14  8 11 22  5  7  5  7  4 16]\n",
            " [ 9 17 16 17 31  4  6 14 16 11 11]]\n",
            "\n",
            "Train classwise accuracies\n",
            "[1. 1. 1. 1. 1. 1. 1. 1. 1. 1. 1.]\n",
            "\n",
            "Test classwise accuracies\n",
            "[0.11111111 0.1512605  0.11016949 0.06024096 0.23317308 0.05084746\n",
            " 0.02702703 0.07377049 0.14906832 0.03669725 0.07236842]\n"
          ]
        }
      ]
    },
    {
      "cell_type": "code",
      "source": [
        "rest8 = SS(with_mean=False).fit_transform(rest1)\n",
        "\n",
        "rest_train, rest_test, last_train, last_test = tts(rest8, last_trans, test_size = 0.20)\n",
        "\n",
        "tmp = mlpc(random_state = 40)\n",
        "\n",
        "cls = tmp.fit(rest_train, last_train) \n",
        "\n",
        "acs(cls.predict(rest_test), last_test)"
      ],
      "metadata": {
        "colab": {
          "base_uri": "https://localhost:8080/"
        },
        "id": "vWy0QqYds2_a",
        "outputId": "7ad37d42-9f31-4ecb-cecd-a0d864f4a4ac"
      },
      "execution_count": 92,
      "outputs": [
        {
          "output_type": "execute_result",
          "data": {
            "text/plain": [
              "0.109"
            ]
          },
          "metadata": {},
          "execution_count": 92
        }
      ]
    },
    {
      "cell_type": "code",
      "source": [
        "cls_train = con_mat(cls.predict(rest_train),last_train)\n",
        "cls_test = con_mat(cls.predict(rest_test),last_test)\n",
        "print(\"Train confusion matrix\")\n",
        "print(cls_train)\n",
        "print(\"\\nTest confusion matrix\")\n",
        "print(cls_test)\n",
        "print(\"\\nTrain classwise accuracies\")\n",
        "print(cls_train.diagonal()/cls_train.sum(axis=1))\n",
        "print(\"\\nTest classwise accuracies\")\n",
        "print(cls_test.diagonal()/cls_test.sum(axis=1))"
      ],
      "metadata": {
        "colab": {
          "base_uri": "https://localhost:8080/"
        },
        "id": "8WpP1cNqun_h",
        "outputId": "b81d095c-f681-467f-806b-39e83563aed8"
      },
      "execution_count": 93,
      "outputs": [
        {
          "output_type": "stream",
          "name": "stdout",
          "text": [
            "Train confusion matrix\n",
            "[[1335    0    0    0    0    0    0    0    0    0    0]\n",
            " [   0 1881    0    0    0    0    0    0    0    0    0]\n",
            " [   0    0 1849    0    0    0    0    0    0    0    0]\n",
            " [   0    0    0 1314    0    0    0    0    0    0    0]\n",
            " [   0    0    0    0 3248    0    0    0    0    0    0]\n",
            " [   0    0    0    0    0  902    0    0    0    0    0]\n",
            " [   0    0    0    0    0    0  910    0    0    0    0]\n",
            " [   0    0    0    0    0    0    0  931    0    0    0]\n",
            " [   0    0    0    0    0    0    0    0 1317    0    0]\n",
            " [   0    0    0    0    0    0    0    0    0  956    0]\n",
            " [   0    0    0    0    0    0    0    0    0    0 1357]]\n",
            "\n",
            "Test confusion matrix\n",
            "[[ 30  43  38  28  65  16  21  23  28  22  38]\n",
            " [ 50  60  69  39  88  20  32  35  49  30  34]\n",
            " [ 29  62  47  42  91  25  25  25  36  24  39]\n",
            " [ 35  40  32  24  67  14  16  17  29  14  29]\n",
            " [ 71  89 106  71 172  44  59  54  68  50  72]\n",
            " [ 11  23  34  14  47  10  16   9  20  13  15]\n",
            " [ 19  22  27  15  42   6  12  14  26  16  21]\n",
            " [ 16  28  35  23  44  10   8  10  19   5  21]\n",
            " [ 27  40  36  34  61  14  10  21  30  13  29]\n",
            " [ 18  23  33  26  54  10   9  16  25  14  18]\n",
            " [ 27  33  31  29  64   8  18  22  33  20  27]]\n",
            "\n",
            "Train classwise accuracies\n",
            "[1. 1. 1. 1. 1. 1. 1. 1. 1. 1. 1.]\n",
            "\n",
            "Test classwise accuracies\n",
            "[0.08522727 0.11857708 0.10561798 0.07570978 0.20093458 0.04716981\n",
            " 0.05454545 0.0456621  0.0952381  0.05691057 0.08653846]\n"
          ]
        }
      ]
    },
    {
      "cell_type": "code",
      "source": [
        "rest9 = SS(with_mean=False).fit_transform(rest1)\n",
        "\n",
        "rest_train, rest_test, last_train, last_test = tts(rest9, last_trans, test_size = 0.15)\n",
        "\n",
        "tmp = mlpc(random_state = 40)\n",
        "\n",
        "cls = tmp.fit(rest_train, last_train) \n",
        "\n",
        "acs(cls.predict(rest_test), last_test)"
      ],
      "metadata": {
        "colab": {
          "base_uri": "https://localhost:8080/"
        },
        "id": "_DafVzKntV8g",
        "outputId": "a579e267-dbf0-45b0-f76f-0df148c18945"
      },
      "execution_count": 94,
      "outputs": [
        {
          "output_type": "execute_result",
          "data": {
            "text/plain": [
              "0.11566666666666667"
            ]
          },
          "metadata": {},
          "execution_count": 94
        }
      ]
    },
    {
      "cell_type": "code",
      "source": [
        "cls_train = con_mat(cls.predict(rest_train),last_train)\n",
        "cls_test = con_mat(cls.predict(rest_test),last_test)\n",
        "print(\"Train confusion matrix\")\n",
        "print(cls_train)\n",
        "print(\"\\nTest confusion matrix\")\n",
        "print(cls_test)\n",
        "print(\"\\nTrain classwise accuracies\")\n",
        "print(cls_train.diagonal()/cls_train.sum(axis=1))\n",
        "print(\"\\nTest classwise accuracies\")\n",
        "print(cls_test.diagonal()/cls_test.sum(axis=1))"
      ],
      "metadata": {
        "colab": {
          "base_uri": "https://localhost:8080/"
        },
        "id": "Gt6IsswcuqLN",
        "outputId": "32cfd555-6949-42a4-cf23-5d6e040b77c4"
      },
      "execution_count": 95,
      "outputs": [
        {
          "output_type": "stream",
          "name": "stdout",
          "text": [
            "Train confusion matrix\n",
            "[[1414    0    0    0    0    0    0    0    0    0    0]\n",
            " [   0 1993    0    0    0    0    0    0    0    0    0]\n",
            " [   0    0 1963    0    0    0    0    0    0    0    0]\n",
            " [   0    0    0 1418    0    0    0    0    0    0    0]\n",
            " [   0    0    0    0 3458    0    0    0    0    0    0]\n",
            " [   0    0    0    0    0  911    0    0    0    0    0]\n",
            " [   0    0    0    0    0    0  961    0    0    0    0]\n",
            " [   0    0    0    0    0    0    0  996    0    0    0]\n",
            " [   0    0    0    0    0    0    0    0 1439    0    0]\n",
            " [   0    0    0    0    0    0    0    0    0 1017    0]\n",
            " [   0    0    0    0    0    0    0    0    0    0 1430]]\n",
            "\n",
            "Test confusion matrix\n",
            "[[ 27  29  34  28  36  17  11  17  23  15  25]\n",
            " [ 26  42  32  23  65  17  25  26  30  15  43]\n",
            " [ 35  44  46  31  77  14  20  19  30  24  23]\n",
            " [ 21  32  25  27  60  13  11  31  29  13  14]\n",
            " [ 55  73  85  44 125  30  43  28  30  36  63]\n",
            " [ 11  20  16  12  33  10  15  10  11   7  12]\n",
            " [ 12  14  29   8  33  11   4   5  11   4  21]\n",
            " [  8  18  17  15  34  19   9  10  22  11  22]\n",
            " [ 18  27  31  22  41  11  13   9  20  12  14]\n",
            " [ 13  19  27  15  35  11   4  12  16  14  11]\n",
            " [ 28  33  32  16  46  15  20  14  19   9  22]]\n",
            "\n",
            "Train classwise accuracies\n",
            "[1. 1. 1. 1. 1. 1. 1. 1. 1. 1. 1.]\n",
            "\n",
            "Test classwise accuracies\n",
            "[0.10305344 0.12209302 0.12672176 0.09782609 0.20424837 0.06369427\n",
            " 0.02631579 0.05405405 0.09174312 0.07909605 0.08661417]\n"
          ]
        }
      ]
    },
    {
      "cell_type": "code",
      "source": [
        "rest10 = pre.normalize(rest1, axis = 0)\n",
        "\n",
        "rest_train, rest_test, last_train, last_test = tts(rest10, last_trans, test_size = 0.10)\n",
        "\n",
        "tmp = mlpc(random_state = 40)\n",
        "\n",
        "cls = tmp.fit(rest_train, last_train) \n",
        "\n",
        "acs(cls.predict(rest_test), last_test)"
      ],
      "metadata": {
        "colab": {
          "base_uri": "https://localhost:8080/"
        },
        "id": "yj_f43LhA85d",
        "outputId": "5f7f0a38-eed9-4b4f-be10-8d2a82b48b1f"
      },
      "execution_count": 96,
      "outputs": [
        {
          "output_type": "stream",
          "name": "stderr",
          "text": [
            "/usr/local/lib/python3.7/dist-packages/sklearn/neural_network/_multilayer_perceptron.py:696: ConvergenceWarning: Stochastic Optimizer: Maximum iterations (200) reached and the optimization hasn't converged yet.\n",
            "  ConvergenceWarning,\n"
          ]
        },
        {
          "output_type": "execute_result",
          "data": {
            "text/plain": [
              "0.1455"
            ]
          },
          "metadata": {},
          "execution_count": 96
        }
      ]
    },
    {
      "cell_type": "code",
      "source": [
        "rest11 = pre.normalize(rest1, axis = 0)\n",
        "\n",
        "rest_train, rest_test, last_train, last_test = tts(rest11, last_trans, test_size = 0.15)\n",
        "\n",
        "tmp = mlpc(random_state = 40)\n",
        "\n",
        "cls = tmp.fit(rest_train, last_train) \n",
        "\n",
        "acs(cls.predict(rest_test), last_test)"
      ],
      "metadata": {
        "colab": {
          "base_uri": "https://localhost:8080/"
        },
        "id": "rMNsTPLbBJmP",
        "outputId": "8b58a16c-34e8-43a5-d675-802d33f4cc69"
      },
      "execution_count": 97,
      "outputs": [
        {
          "output_type": "stream",
          "name": "stderr",
          "text": [
            "/usr/local/lib/python3.7/dist-packages/sklearn/neural_network/_multilayer_perceptron.py:696: ConvergenceWarning: Stochastic Optimizer: Maximum iterations (200) reached and the optimization hasn't converged yet.\n",
            "  ConvergenceWarning,\n"
          ]
        },
        {
          "output_type": "execute_result",
          "data": {
            "text/plain": [
              "0.13833333333333334"
            ]
          },
          "metadata": {},
          "execution_count": 97
        }
      ]
    },
    {
      "cell_type": "code",
      "source": [
        "rest12 = pre.normalize(rest1, axis = 0)\n",
        "\n",
        "rest_train, rest_test, last_train, last_test = tts(rest12, last_trans, test_size = 0.20)\n",
        "\n",
        "tmp = mlpc(random_state = 40)\n",
        "\n",
        "cls = tmp.fit(rest_train, last_train) \n",
        "\n",
        "acs(cls.predict(rest_test), last_test)"
      ],
      "metadata": {
        "colab": {
          "base_uri": "https://localhost:8080/"
        },
        "id": "suhahnfABOpr",
        "outputId": "4557a033-7694-45b2-8a9e-389340f1e030"
      },
      "execution_count": 98,
      "outputs": [
        {
          "output_type": "stream",
          "name": "stderr",
          "text": [
            "/usr/local/lib/python3.7/dist-packages/sklearn/neural_network/_multilayer_perceptron.py:696: ConvergenceWarning: Stochastic Optimizer: Maximum iterations (200) reached and the optimization hasn't converged yet.\n",
            "  ConvergenceWarning,\n"
          ]
        },
        {
          "output_type": "execute_result",
          "data": {
            "text/plain": [
              "0.144"
            ]
          },
          "metadata": {},
          "execution_count": 98
        }
      ]
    }
  ]
}